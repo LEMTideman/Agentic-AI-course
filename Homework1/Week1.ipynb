{
 "cells": [
  {
   "cell_type": "code",
   "execution_count": 1,
   "id": "c62110e6-785a-48b1-bcac-beb80cd13ef9",
   "metadata": {},
   "outputs": [],
   "source": [
    "from openai import OpenAI"
   ]
  },
  {
   "cell_type": "code",
   "execution_count": 2,
   "id": "2679811e-c9b6-4bb2-a2c1-148c8ce57554",
   "metadata": {},
   "outputs": [],
   "source": [
    "openai_client = OpenAI()"
   ]
  },
  {
   "cell_type": "code",
   "execution_count": 3,
   "id": "5941f8e5-f21d-466d-8e6e-ad59f821de31",
   "metadata": {},
   "outputs": [
    {
     "name": "stdout",
     "output_type": "stream",
     "text": [
      "The Little Cloud and the Unicorn\n",
      "\n",
      "In a quiet meadow where the grass sighed like a lullaby, a unicorn named Lila walked beneath the moon. Her mane shimmered like morning frost, and the tip of her horn held a soft, sleepy glow that never startled the night.\n",
      "\n",
      "One evening, Lila found a little cloud hiding among the clover. It was no bigger than a pillow and trembled whenever the crickets chirped. “I drifted too low,” the cloud whispered. “I can’t find my way back to the high, gentle winds. What if I float forever and never sleep?”\n",
      "\n",
      "Lila bent her head so the cloud could see its reflection in her shining horn. “You’re not lost,” she said. “You’re just waiting to be guided. I’ll walk beside you.”\n",
      "\n",
      "They set off together, slow and easy, so nothing in the meadow would wake with a start. An old owl watched from an oak and hooted, “Follow the quiet places. The sky begins where the world is most still.”\n",
      "\n",
      "So Lila listened. She listened to the hush of the brook and the hush of the fern. Hush, hush, hush. She dipped her horn in the water, and little rings of light drifted outward, showing a path that curved up the hill.\n",
      "\n",
      "The cloud rode on the unicorn’s back, lighter with every step, sipping the moonlight that gathered on Lila’s horn. Crickets kept time with her hoofbeats, and the breeze combed the tall grass like gentle fingers.\n",
      "\n",
      "At the top of the hill, the world felt wide and calm. Stars leaned close, curious and kind. Lila took a breath so deep that the cloud remembered how to float. “Try,” she murmured. “The sky knows your name.”\n",
      "\n",
      "The cloud rose a little, then a little more. “I’m afraid I’ll fall,” it said.\n",
      "\n",
      "“I’ll hum until you don’t,” Lila promised. She sang a small, steady note—no louder than a secret—and the sound wrapped around the cloud like a ribbon. Up it drifted, higher and higher, until it found the patient river of wind that carried the moon.\n",
      "\n",
      "Before it went, the cloud let fall a soft, silver rain—just enough to comb the petals and smooth the leaves. The meadow sighed again, sleepy and sweet. Fireflies blinked like tiny heartbeats. The owl tucked its head. Even the brook sang in a whisper.\n",
      "\n",
      "“Thank you,” the cloud called down, already drowsy.\n",
      "\n",
      "“Goodnight,” Lila replied, and her horn dimmed to a warm ember.\n",
      "\n",
      "She curled beneath a willow where the dew made a cool pillow, and the night tucked a blanket of crickets over her. If you listen now, very carefully, you can hear that same hush at your window—the quiet place where dreams begin.\n",
      "\n",
      "Close your eyes. Let the stars lean close, let the breeze smooth your thoughts, and float as lightly as a little cloud finding its way home. Goodnight.\n"
     ]
    }
   ],
   "source": [
    "response = openai_client.responses.create(\n",
    "    model=\"gpt-5\",\n",
    "    input=\"Write a short bedtime story about a unicorn.\"\n",
    ")\n",
    "\n",
    "print(response.output_text)"
   ]
  },
  {
   "cell_type": "code",
   "execution_count": null,
   "id": "827636de-fded-41bf-83fc-6cefb9579928",
   "metadata": {},
   "outputs": [],
   "source": []
  }
 ],
 "metadata": {
  "kernelspec": {
   "display_name": "Python 3 (ipykernel)",
   "language": "python",
   "name": "python3"
  },
  "language_info": {
   "codemirror_mode": {
    "name": "ipython",
    "version": 3
   },
   "file_extension": ".py",
   "mimetype": "text/x-python",
   "name": "python",
   "nbconvert_exporter": "python",
   "pygments_lexer": "ipython3",
   "version": "3.12.1"
  }
 },
 "nbformat": 4,
 "nbformat_minor": 5
}
